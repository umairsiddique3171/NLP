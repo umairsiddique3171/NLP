{
 "cells": [
  {
   "cell_type": "markdown",
   "id": "3fd219e8",
   "metadata": {},
   "source": [
    "### Spacy\n",
    "- Spacy is object oriented library.\n",
    "- It provides most efficient algorithm for a given taks. Hence, if you care about the end result, go with spacy.\n",
    "- Spacy is user friendly.\n",
    "- Perfect for app developers.\n",
    "- Spacy is new library and has a very active user community.\n",
    "<br>\n",
    "### NLTK\n",
    "- NLTK is a string processing library.\n",
    "- It provides access to many algorithms. If you care about specific algo and customizations go with NLTK.\n",
    "- NLTK is also user friendly but probably less user friendly as compared to Spacy.\n",
    "- Perfect for researchers.\n",
    "- NLTK is old library. User community as active as Spacy."
   ]
  },
  {
   "cell_type": "code",
   "execution_count": 1,
   "id": "f9e88253",
   "metadata": {},
   "outputs": [],
   "source": [
    "import spacy"
   ]
  },
  {
   "cell_type": "code",
   "execution_count": 2,
   "id": "bfb70b04",
   "metadata": {},
   "outputs": [],
   "source": [
    "nlp = spacy.load(\"en_core_web_sm\")"
   ]
  },
  {
   "cell_type": "code",
   "execution_count": 3,
   "id": "4b2e454a",
   "metadata": {},
   "outputs": [],
   "source": [
    "doc = nlp(\"My name is Muhammad Umair Siddique. And I am coder by profession.\")"
   ]
  },
  {
   "cell_type": "code",
   "execution_count": 4,
   "id": "f4e4e850",
   "metadata": {},
   "outputs": [
    {
     "name": "stdout",
     "output_type": "stream",
     "text": [
      "My name is Muhammad Umair Siddique.\n",
      "And I am coder by profession.\n"
     ]
    }
   ],
   "source": [
    "for sentence in doc.sents:\n",
    "    print(sentence)"
   ]
  },
  {
   "cell_type": "code",
   "execution_count": 5,
   "id": "0f8f1089",
   "metadata": {},
   "outputs": [
    {
     "name": "stdout",
     "output_type": "stream",
     "text": [
      "My\n",
      "name\n",
      "is\n",
      "Muhammad\n",
      "Umair\n",
      "Siddique\n",
      ".\n",
      "And\n",
      "I\n",
      "am\n",
      "coder\n",
      "by\n",
      "profession\n",
      ".\n"
     ]
    }
   ],
   "source": [
    "for sentence in doc.sents:\n",
    "    for word in sentence:\n",
    "        print(word)"
   ]
  },
  {
   "cell_type": "code",
   "execution_count": 6,
   "id": "17fb6b93",
   "metadata": {},
   "outputs": [],
   "source": [
    "import nltk\n",
    "\n",
    "# nltk.download()\n",
    "# nltk.download('punkt')"
   ]
  },
  {
   "cell_type": "code",
   "execution_count": 7,
   "id": "bb55da93",
   "metadata": {},
   "outputs": [],
   "source": [
    "from nltk.tokenize import sent_tokenize"
   ]
  },
  {
   "cell_type": "code",
   "execution_count": 8,
   "id": "85379df5",
   "metadata": {},
   "outputs": [
    {
     "data": {
      "text/plain": [
       "['My name is Muhammad Umair Siddique.', 'And I am coder by profession.']"
      ]
     },
     "execution_count": 8,
     "metadata": {},
     "output_type": "execute_result"
    }
   ],
   "source": [
    "sent_tokenize(\"My name is Muhammad Umair Siddique. And I am coder by profession.\")"
   ]
  },
  {
   "cell_type": "code",
   "execution_count": 9,
   "id": "2d29794d",
   "metadata": {},
   "outputs": [],
   "source": [
    "from nltk.tokenize import word_tokenize"
   ]
  },
  {
   "cell_type": "code",
   "execution_count": 10,
   "id": "6825b227",
   "metadata": {},
   "outputs": [
    {
     "data": {
      "text/plain": [
       "['My',\n",
       " 'name',\n",
       " 'is',\n",
       " 'Muhammad',\n",
       " 'Umair',\n",
       " 'Siddique',\n",
       " '.',\n",
       " 'And',\n",
       " 'I',\n",
       " 'am',\n",
       " 'coder',\n",
       " 'by',\n",
       " 'profession',\n",
       " '.']"
      ]
     },
     "execution_count": 10,
     "metadata": {},
     "output_type": "execute_result"
    }
   ],
   "source": [
    "word_tokenize(\"My name is Muhammad Umair Siddique. And I am coder by profession.\")"
   ]
  },
  {
   "cell_type": "code",
   "execution_count": null,
   "id": "1de1d186",
   "metadata": {},
   "outputs": [],
   "source": []
  }
 ],
 "metadata": {
  "kernelspec": {
   "display_name": "Python 3 (ipykernel)",
   "language": "python",
   "name": "python3"
  },
  "language_info": {
   "codemirror_mode": {
    "name": "ipython",
    "version": 3
   },
   "file_extension": ".py",
   "mimetype": "text/x-python",
   "name": "python",
   "nbconvert_exporter": "python",
   "pygments_lexer": "ipython3",
   "version": "3.11.5"
  }
 },
 "nbformat": 4,
 "nbformat_minor": 5
}
